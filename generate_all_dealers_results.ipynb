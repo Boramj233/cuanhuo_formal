{
 "cells": [
  {
   "cell_type": "code",
   "execution_count": null,
   "metadata": {},
   "outputs": [],
   "source": [
    "from src import main_generate_all_dealers_results\n",
    "\n",
    "dealer_region_name = \"河南大区\"\n",
    "product_group_id = \"01\"\n",
    "year_month_str = \"202501\"\n",
    "\n",
    "main_generate_all_dealers_results(dealer_region_name, product_group_id, year_month_str)"
   ]
  }
 ],
 "metadata": {
  "kernelspec": {
   "display_name": "Python 3",
   "language": "python",
   "name": "python3"
  },
  "language_info": {
   "codemirror_mode": {
    "name": "ipython",
    "version": 3
   },
   "file_extension": ".py",
   "mimetype": "text/x-python",
   "name": "python",
   "nbconvert_exporter": "python",
   "pygments_lexer": "ipython3",
   "version": "3.12.7"
  }
 },
 "nbformat": 4,
 "nbformat_minor": 2
}
