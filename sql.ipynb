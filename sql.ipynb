{
 "cells": [
  {
   "cell_type": "markdown",
   "metadata": {},
   "source": [
    "SELECT\n",
    "BELONG_DEALER_NO, BELONG_DEALER_NAME, BARCODE_BOTTLE, BARCODE_CORNER, PRODUCT_GROUP_CODE, PRODUCT_GROUP_NAME, SALE_OUT_TIME,\n",
    "OUT_DEALER_NO, OUT_DEALER_NAME, OUT_DEALER_DATE, OUT_DEALER_TO_CODE, OUT_DEALER_TO_NAME, CUST_SCAN_DATE, OPEN_BOX_TIME,\n",
    "LATITUDE, LONGITUDE, OPEN_ADDRESS, OPEN_PROVINCE, OPEN_CITY, OPEN_DISTRICT, OPEN_TOWN, OPEN_PROVINCE_ID, OPEN_CITY_ID, OPEN_DISTRICT_ID, OPEN_TOWN_ID,\n",
    "TO_STORE_DATE, STORE_CODE\n",
    "  \n",
    "FROM\n",
    "  dwd_xm_bottlecode_mkt_detail \n",
    "WHERE\n",
    "  IS_SCAN = 1\n",
    "  AND CUST_SCAN_DATE >= 20250201\n",
    "  AND CUST_SCAN_DATE < 20250301"
   ]
  },
  {
   "cell_type": "markdown",
   "metadata": {},
   "source": [
    "SELECT\n",
    "YEARMONTH, ID, SALESAREA_ID, DEALER_CODE, PRODUCT_GROUP_CODE\n",
    "FROM\n",
    "  DIM_DEALER_PG_SALESAREA_MAP_FIN_M \n",
    "WHERE\n",
    "  YEARMONTH = 202410"
   ]
  },
  {
   "cell_type": "markdown",
   "metadata": {},
   "source": [
    "SELECT \n",
    "SALESAREA_ID, EFFECTIVE_DATE, INACTIVE_DATE, ORG_CNTER_NAME, ORG_REGION_NAME, ORG_AGENCY_NAME, ORG_URBAN_UNIT_NAME\n",
    "FROM DIM_SALESAREA_INFO"
   ]
  },
  {
   "cell_type": "markdown",
   "metadata": {},
   "source": [
    "SELECT *\n",
    "FROM dim_dealer_business_scope"
   ]
  }
 ],
 "metadata": {
  "language_info": {
   "name": "python"
  }
 },
 "nbformat": 4,
 "nbformat_minor": 2
}
